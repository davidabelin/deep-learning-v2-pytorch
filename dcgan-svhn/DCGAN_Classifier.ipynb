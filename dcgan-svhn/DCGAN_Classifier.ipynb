{
  "nbformat": 4,
  "nbformat_minor": 0,
  "metadata": {
    "kernelspec": {
      "display_name": "Python 3",
      "language": "python",
      "name": "python3"
    },
    "language_info": {
      "codemirror_mode": {
        "name": "ipython",
        "version": 3
      },
      "file_extension": ".py",
      "mimetype": "text/x-python",
      "name": "python",
      "nbconvert_exporter": "python",
      "pygments_lexer": "ipython3",
      "version": "3.6.3"
    },
    "colab": {
      "name": "DCGAN_Classifier.ipynb",
      "provenance": [],
      "machine_shape": "hm"
    },
    "accelerator": "GPU"
  },
  "cells": [
    {
      "cell_type": "markdown",
      "metadata": {
        "id": "s_vQMHI6SHAs"
      },
      "source": [
        "# Deep Convolutional GANs\n",
        "\n",
        "In this notebook, you'll build a GAN using convolutional layers in the generator and discriminator. This is called a Deep Convolutional GAN, or DCGAN for short. The DCGAN architecture was first explored in 2016 and has seen impressive results in generating new images; you can read the [original paper, here](https://arxiv.org/pdf/1511.06434.pdf).\n",
        "\n",
        "You'll be training DCGAN on the [Street View House Numbers](http://ufldl.stanford.edu/housenumbers/) (SVHN) dataset. These are color images of house numbers collected from Google street view. SVHN images are in color and much more variable than MNIST. \n",
        "\n",
        "<img src='assets/svhn_dcgan.png' width=80% />\n",
        "\n",
        "So, our goal is to create a DCGAN that can generate new, realistic-looking images of house numbers. We'll go through the following steps to do this:\n",
        "* Load in and pre-process the house numbers dataset\n",
        "* Define discriminator and generator networks\n",
        "* Train these adversarial networks\n",
        "* Visualize the loss over time and some sample, generated images\n",
        "\n",
        "#### Deeper Convolutional Networks\n",
        "\n",
        "Since this dataset is more complex than our MNIST data, we'll need a deeper network to accurately identify patterns in these images and be able to generate new ones. Specifically, we'll use a series of convolutional or transpose convolutional layers in the discriminator and generator. It's also necessary to use batch normalization to get these convolutional networks to train. \n",
        "\n",
        "Besides these changes in network structure, training the discriminator and generator networks should be the same as before. That is, the discriminator will alternate training on real and fake (generated) images, and the generator will aim to trick the discriminator into thinking that its generated images are real!"
      ]
    },
    {
      "cell_type": "code",
      "metadata": {
        "id": "i3FZ5p2xSHAu"
      },
      "source": [
        "# import libraries\n",
        "import matplotlib.pyplot as plt\n",
        "import numpy as np\n",
        "import pickle as pkl\n",
        "\n",
        "import torch\n",
        "from torchvision import datasets\n",
        "from torchvision import transforms\n",
        "\n",
        "%matplotlib inline"
      ],
      "execution_count": null,
      "outputs": []
    },
    {
      "cell_type": "markdown",
      "metadata": {
        "id": "7D689FFaSHAv"
      },
      "source": [
        "## Getting the data\n",
        "\n",
        "Here you can download the SVHN dataset. It's a dataset built-in to the PyTorch datasets library. We can load in training data, transform it into Tensor datatypes, then create dataloaders to batch our data into a desired size."
      ]
    },
    {
      "cell_type": "code",
      "metadata": {
        "id": "heabo92xSHAv"
      },
      "source": [
        "# Tensor transform\n",
        "transform = transforms.ToTensor()\n",
        "\n",
        "# SVHN training datasets\n",
        "svhn_train = datasets.SVHN(root='data/', split='train', download=True, transform=transform)\n",
        "svhn_test = datasets.SVHN(root='data/', split='test', download=True, transform=transform)\n",
        "\n",
        "batch_size = 96\n",
        "num_workers = 0\n",
        "\n",
        "# build DataLoaders for SVHN dataset\n",
        "train_loader = torch.utils.data.DataLoader(dataset=svhn_train,\n",
        "                                          batch_size=batch_size,\n",
        "                                          shuffle=True,\n",
        "                                          num_workers=num_workers,\n",
        "                                           )\n",
        "\n",
        "test_loader = torch.utils.data.DataLoader(dataset=svhn_test,\n",
        "                                          batch_size=batch_size,\n",
        "                                          shuffle=True,\n",
        "                                          num_workers=num_workers,\n",
        "                                           )"
      ],
      "execution_count": null,
      "outputs": []
    },
    {
      "cell_type": "code",
      "metadata": {
        "id": "5y7yWKV1rF9Z"
      },
      "source": [
        "svhn_val = datasets.SVHN(root='data/', split='extra', download=True, transform=transform)\n",
        "val_loader = torch.utils.data.DataLoader(dataset=svhn_val,\n",
        "                                          batch_size=batch_size,\n",
        "                                          shuffle=True,\n",
        "                                          num_workers=num_workers,\n",
        "                                           )"
      ],
      "execution_count": null,
      "outputs": []
    },
    {
      "cell_type": "code",
      "metadata": {
        "id": "8gmyO_KBseV1"
      },
      "source": [
        "mnist_data = datasets.MNIST(root='data', train=True,\n",
        "                            download=True, transform=transform)\n",
        "\n",
        "mnist_loader = torch.utils.data.DataLoader(dataset=mnist_data,\n",
        "                                          batch_size=batch_size,\n",
        "                                          shuffle=True,\n",
        "                                          num_workers=num_workers,\n",
        "                                           )"
      ],
      "execution_count": null,
      "outputs": []
    },
    {
      "cell_type": "code",
      "metadata": {
        "id": "wUpJxjvfM3fx"
      },
      "source": [
        "#svhn_train.data.shape[0], svhn_test.data.shape[0], svhn_extra.data.shape[0], \n",
        "#data_size = svhn_train.data.shape[0] + svhn_test.data.shape[0] + svhn_extra.data.shape[0]"
      ],
      "execution_count": null,
      "outputs": []
    },
    {
      "cell_type": "markdown",
      "metadata": {
        "id": "E8ZWW1EuSHAw"
      },
      "source": [
        "### Visualize the Data\n",
        "\n",
        "Here I'm showing a small sample of the images. Each of these is 32x32 with 3 color channels (RGB). These are the real, training images that we'll pass to the discriminator. Notice that each image has _one_ associated, numerical label."
      ]
    },
    {
      "cell_type": "code",
      "metadata": {
        "id": "zpjAtPoTSHAw"
      },
      "source": [
        "# obtain one batch of training images\n",
        "dataiter = iter(train_loader)\n",
        "images, labels = dataiter.next()\n",
        "\n",
        "# plot the images in the batch, along with the corresponding labels\n",
        "fig = plt.figure(figsize=(12, 2.5))\n",
        "plot_size=20\n",
        "for idx in np.arange(plot_size):\n",
        "    ax = fig.add_subplot(2, plot_size/2, idx+1, xticks=[], yticks=[])\n",
        "    ax.imshow(np.transpose(images[idx], (1, 2, 0)))\n",
        "    # print out the correct label for each image\n",
        "    # .item() gets the value contained in a Tensor\n",
        "    ax.set_title(str(labels[idx].item()))"
      ],
      "execution_count": null,
      "outputs": []
    },
    {
      "cell_type": "code",
      "metadata": {
        "id": "Wfbm1csDuqY7"
      },
      "source": [
        "def get_new_images(images):\n",
        "    new_images = []\n",
        "    for img in images:\n",
        "        new = np.zeros((3, 32, 32), dtype=np.float32) #scale(np.random.rand(3, 32, 32), feature_range=(0,0.2))       \n",
        "        imarr = img[0].numpy()\n",
        "        for i in range(3):\n",
        "            sideways = np.random.choice([-1, 0, 1])\n",
        "            updown = np.random.choice([-1, 0, 1])\n",
        "            #ciz = np.random.randint(10)/10.0\n",
        "            #new[i] += ciz\n",
        "            #imarr = img[0].numpy() - ciz\n",
        "            new[i, 2+sideways:30+sideways, 2+updown:30+updown] += imarr\n",
        "        new_images.append(new)\n",
        "    new_images = torch.from_numpy(np.array(new_images))\n",
        "    return new_images\n",
        "\n",
        "\n",
        "mnistiter = iter(mnist_loader)\n",
        "images, labels = mnistiter.next()\n",
        "images = get_new_images(images)\n",
        "\n",
        "fig = plt.figure(figsize=(18, 3))\n",
        "plot_size=20\n",
        "for idx in np.arange(plot_size):\n",
        "    ax = fig.add_subplot(2, plot_size/2, idx+1, xticks=[], yticks=[])\n",
        "    ax.imshow(np.transpose(images[idx], (1, 2, 0)))\n",
        "    ax.set_title(str(labels[idx].item()))"
      ],
      "execution_count": null,
      "outputs": []
    },
    {
      "cell_type": "markdown",
      "metadata": {
        "id": "G717DbhMSHAx"
      },
      "source": [
        "### Pre-processing: scaling from -1 to 1\n",
        "\n",
        "We need to do a bit of pre-processing; we know that the output of our `tanh` activated generator will contain pixel values in a range from -1 to 1, and so, we need to rescale our training images to a range of -1 to 1. (Right now, they are in a range from 0-1.)"
      ]
    },
    {
      "cell_type": "code",
      "metadata": {
        "id": "Yi6RjHO0SHAx"
      },
      "source": [
        "# current range\n",
        "img = images[0]\n",
        "\n",
        "print('Min: ', img.min())\n",
        "print('Max: ', img.max())"
      ],
      "execution_count": null,
      "outputs": []
    },
    {
      "cell_type": "code",
      "metadata": {
        "id": "jKn3LRlKSHAx"
      },
      "source": [
        "# helper scale function\n",
        "def scale(x, feature_range=(-1, 1)):\n",
        "    ''' Scale takes in an image x and returns that image, scaled\n",
        "       with a feature_range of pixel values from -1 to 1. \n",
        "       This function assumes that the input x is already scaled from 0-1.'''\n",
        "    # assume x is scaled to (0, 1)\n",
        "    # scale to feature_range and return scaled x\n",
        "    x = x*(feature_range[1]-feature_range[0]) + feature_range[0]\n",
        "    return x\n"
      ],
      "execution_count": null,
      "outputs": []
    },
    {
      "cell_type": "code",
      "metadata": {
        "id": "QvUad3f6SHAx"
      },
      "source": [
        "# scaled range\n",
        "scaled_img = scale(img)\n",
        "\n",
        "print('Scaled min: ', scaled_img.min())\n",
        "print('Scaled max: ', scaled_img.max())"
      ],
      "execution_count": null,
      "outputs": []
    },
    {
      "cell_type": "markdown",
      "metadata": {
        "id": "YlxfZUugSHAy"
      },
      "source": [
        "---\n",
        "# Define the Model\n",
        "\n",
        "A GAN is comprised of two adversarial networks, a discriminator and a generator."
      ]
    },
    {
      "cell_type": "markdown",
      "metadata": {
        "id": "B0Hcqi_qSHAy"
      },
      "source": [
        "## Discriminator\n",
        "\n",
        "Here you'll build the discriminator. This is a convolutional classifier like you've built before, only without any maxpooling layers. \n",
        "* The inputs to the discriminator are 32x32x3 tensor images\n",
        "* You'll want a few convolutional, hidden layers\n",
        "* Then a fully connected layer for the output; as before, we want a sigmoid output, but we'll add that in the loss function, [BCEWithLogitsLoss](https://pytorch.org/docs/stable/nn.html#bcewithlogitsloss), later\n",
        "\n",
        "<img src='assets/conv_discriminator.png' width=80%/>\n",
        "\n",
        "For the depths of the convolutional layers I suggest starting with 32 filters in the first layer, then double that depth as you add layers (to 64, 128, etc.). Note that in the DCGAN paper, they did all the downsampling using only strided convolutional layers with no maxpooling layers.\n",
        "\n",
        "You'll also want to use batch normalization with [nn.BatchNorm2d](https://pytorch.org/docs/stable/nn.html#batchnorm2d) on each layer **except** the first convolutional layer and final, linear output layer. \n",
        "\n",
        "#### Helper `conv` function \n",
        "\n",
        "In general, each layer should look something like convolution > batch norm > leaky ReLU, and so we'll define a function to put these layers together. This function will create a sequential series of a convolutional + an optional batch norm layer. We'll create these using PyTorch's [Sequential container](https://pytorch.org/docs/stable/nn.html#sequential), which takes in a list of layers and creates layers according to the order that they are passed in to the Sequential constructor.\n",
        "\n",
        "Note: It is also suggested that you use a **kernel_size of 4** and a **stride of 2** for strided convolutions."
      ]
    },
    {
      "cell_type": "code",
      "metadata": {
        "id": "3GTtK0eVSHAz"
      },
      "source": [
        "import torch.nn as nn\n",
        "import torch.nn.functional as F\n",
        "\n",
        "# helper conv function\n",
        "def conv(in_channels, out_channels, kernel_size, stride=2, padding=1, batch_norm=True):\n",
        "    \"\"\"Creates a convolutional layer, with optional batch normalization.\n",
        "    \"\"\"\n",
        "    layers = []\n",
        "    conv_layer = nn.Conv2d(in_channels, out_channels, \n",
        "                           kernel_size, stride=2, padding=1, bias=False)\n",
        "    \n",
        "    # append conv layer\n",
        "    layers.append(conv_layer)\n",
        "\n",
        "    if batch_norm:\n",
        "        # append batchnorm layer\n",
        "        layers.append(nn.BatchNorm2d(out_channels))\n",
        "     \n",
        "    # using Sequential container\n",
        "    return nn.Sequential(*layers)\n"
      ],
      "execution_count": null,
      "outputs": []
    },
    {
      "cell_type": "code",
      "metadata": {
        "id": "AJrhsN1iSHAz"
      },
      "source": [
        "class Classifier(nn.Module):\n",
        "\n",
        "    def __init__(self, conv_dim=32):\n",
        "        super(Classifier, self).__init__()\n",
        "        # complete init function\n",
        "        self.c1 = conv(3, conv_dim, 4)#, batch_norm=False)\n",
        "        self.c2 = conv(conv_dim, 2*conv_dim, 4)\n",
        "        self.c3 = conv(2*conv_dim, 4*conv_dim, 4)\n",
        "        self.classifier1 = nn.Linear(4*4*4*conv_dim, 4*conv_dim)\n",
        "        self.classifier2 = nn.Linear(4*conv_dim, conv_dim)\n",
        "        self.out = nn.Linear(conv_dim, 11)\n",
        "        self.leaky = nn.LeakyReLU(0.2)\n",
        "        self.sigmoid = nn.Sigmoid()\n",
        "        self.soft = nn.Softmax()\n",
        "        self.relu = nn.ReLU()\n",
        "        self.flat = nn.Flatten()\n",
        "        self.drop = nn.Dropout(0.1)\n",
        "\n",
        "    def forward(self, x):\n",
        "        # complete forward function\n",
        "        x = self.leaky(self.c1(x))\n",
        "        x = self.leaky(self.c2(x))\n",
        "        x = self.leaky(self.c3(x))\n",
        "        x = self.drop(self.relu(self.flat(x)))\n",
        "        x = self.drop(self.relu(self.classifier1(x)))\n",
        "        x = self.drop(self.relu(self.classifier2(x)))\n",
        "        x = self.out(x)\n",
        "        return x\n",
        "    "
      ],
      "execution_count": null,
      "outputs": []
    },
    {
      "cell_type": "markdown",
      "metadata": {
        "id": "YDCoGlJoSHAz"
      },
      "source": [
        "## Generator\n",
        "\n",
        "Next, you'll build the generator network. The input will be our noise vector `z`, as before. And, the output will be a $tanh$ output, but this time with size 32x32 which is the size of our SVHN images.\n",
        "\n",
        "<img src='assets/conv_generator.png' width=80% />\n",
        "\n",
        "What's new here is we'll use transpose convolutional layers to create our new images. \n",
        "* The first layer is a fully connected layer which is reshaped into a deep and narrow layer, something like 4x4x512. \n",
        "* Then, we use batch normalization and a leaky ReLU activation. \n",
        "* Next is a series of [transpose convolutional layers](https://pytorch.org/docs/stable/nn.html#convtranspose2d), where you typically halve the depth and double the width and height of the previous layer. \n",
        "* And, we'll apply batch normalization and ReLU to all but the last of these hidden layers. Where we will just apply a `tanh` activation.\n",
        "\n",
        "#### Helper `deconv` function\n",
        "\n",
        "For each of these layers, the general scheme is transpose convolution > batch norm > ReLU, and so we'll define a function to put these layers together. This function will create a sequential series of a transpose convolutional + an optional batch norm layer. We'll create these using PyTorch's Sequential container, which takes in a list of layers and creates layers according to the order that they are passed in to the Sequential constructor.\n",
        "\n",
        "Note: It is also suggested that you use a **kernel_size of 4** and a **stride of 2** for transpose convolutions."
      ]
    },
    {
      "cell_type": "code",
      "metadata": {
        "id": "kbHkvVgSSHA0"
      },
      "source": [
        "# helper deconv function\n",
        "def decon(in_channels, out_channels, kernel_size, stride=2, padding=1, batch_norm=True):\n",
        "    \"\"\"Creates a transposed-convolutional layer, with optional batch normalization.\n",
        "    \"\"\"\n",
        "    ## TODO: Complete this function\n",
        "    ## create a sequence of transpose + optional batch norm layers\n",
        "    layers = []\n",
        "    decon_layer = nn.ConvTranspose2d(in_channels, out_channels, \n",
        "                                     kernel_size, stride, padding, bias=False)\n",
        "    \n",
        "    # append conv layer\n",
        "    layers.append(decon_layer)\n",
        "\n",
        "    if batch_norm:\n",
        "        # append batchnorm layer\n",
        "        layers.append(nn.BatchNorm2d(out_channels))\n",
        "     \n",
        "    # using Sequential container\n",
        "    return nn.Sequential(*layers)"
      ],
      "execution_count": null,
      "outputs": []
    },
    {
      "cell_type": "code",
      "metadata": {
        "id": "1P0zAQ-_SHA0"
      },
      "source": [
        "class Generator(nn.Module):\n",
        "    \n",
        "    def __init__(self, z_size, conv_dim=32):\n",
        "        super(Generator, self).__init__()\n",
        "        self.conv_dim = conv_dim\n",
        "        # complete init function\n",
        "        self.layer1 = nn.Linear(z_size, 4*4*4*conv_dim)\n",
        "        self.decon1 = decon(conv_dim*4, conv_dim*2, 4)\n",
        "        self.decon2 = decon(conv_dim*2, conv_dim, 4)\n",
        "        self.decon3 = decon(conv_dim, 3, 4, batch_norm=False)\n",
        "        self.tanh = nn.Tanh()\n",
        "        self.relu = nn.ReLU()\n",
        "\n",
        "    def forward(self, x):\n",
        "        # complete forward function\n",
        "        x = self.layer1(x)\n",
        "        x = x.view(-1, 4*self.conv_dim, 4, 4) #batch, depth, 4, 4\n",
        "        x = self.relu(self.decon1(x))\n",
        "        x = self.relu(self.decon2(x))\n",
        "        x = self.tanh(self.decon3(x))\n",
        "        return x"
      ],
      "execution_count": null,
      "outputs": []
    },
    {
      "cell_type": "markdown",
      "metadata": {
        "collapsed": true,
        "id": "6Fl_Iun6SHA0"
      },
      "source": [
        "## Build complete network\n",
        "\n",
        "Define your models' hyperparameters and instantiate the discriminator and generator from the classes defined above. Make sure you've passed in the correct input arguments."
      ]
    },
    {
      "cell_type": "code",
      "metadata": {
        "id": "Q2fVIIzhSHA1"
      },
      "source": [
        "# define hyperparams\n",
        "conv_dim = 32\n",
        "z_size = 100\n",
        "\n",
        "# define discriminator and generator\n",
        "D = Classifier(conv_dim)#Discriminator(conv_dim)\n",
        "G = Generator(z_size=z_size, conv_dim=conv_dim)\n",
        "\n",
        "print(D)\n",
        "print()\n",
        "print(G)"
      ],
      "execution_count": null,
      "outputs": []
    },
    {
      "cell_type": "markdown",
      "metadata": {
        "id": "8ACpSFTySHA1"
      },
      "source": [
        "### Training on GPU\n",
        "\n",
        "Check if you can train on GPU. If you can, set this as a variable and move your models to GPU. \n",
        "> Later, we'll also move any inputs our models and loss functions see (real_images, z, and ground truth labels) to GPU as well."
      ]
    },
    {
      "cell_type": "code",
      "metadata": {
        "id": "MJ8ludZ9SHA1"
      },
      "source": [
        "train_on_gpu = torch.cuda.is_available()\n",
        "\n",
        "if train_on_gpu:\n",
        "    # move models to GPU\n",
        "    G.cuda()\n",
        "    D.cuda()\n",
        "    print('GPU available for training. Models moved to GPU')\n",
        "else:\n",
        "    print('Training on CPU.')\n",
        "    "
      ],
      "execution_count": null,
      "outputs": []
    },
    {
      "cell_type": "markdown",
      "metadata": {
        "id": "7PAncYuaSHA2"
      },
      "source": [
        "---\n",
        "## Discriminator and Generator Losses\n",
        "\n",
        "Now we need to calculate the losses. And this will be exactly the same as before.\n",
        "\n",
        "### Discriminator Losses\n",
        "\n",
        "> * For the discriminator, the total loss is the sum of the losses for real and fake images, `d_loss = d_real_loss + d_fake_loss`. \n",
        "* Remember that we want the discriminator to output 1 for real images and 0 for fake images, so we need to set up the losses to reflect that.\n",
        "\n",
        "The losses will by binary cross entropy loss with logits, which we can get with [BCEWithLogitsLoss](https://pytorch.org/docs/stable/nn.html#bcewithlogitsloss). This combines a `sigmoid` activation function **and** and binary cross entropy loss in one function.\n",
        "\n",
        "For the real images, we want `D(real_images) = 1`. That is, we want the discriminator to classify the the real images with a label = 1, indicating that these are real. The discriminator loss for the fake data is similar. We want `D(fake_images) = 0`, where the fake images are the _generator output_, `fake_images = G(z)`. \n",
        "\n",
        "### Generator Loss\n",
        "\n",
        "The generator loss will look similar only with flipped labels. The generator's goal is to get `D(fake_images) = 1`. In this case, the labels are **flipped** to represent that the generator is trying to fool the discriminator into thinking that the images it generates (fakes) are real!"
      ]
    },
    {
      "cell_type": "code",
      "metadata": {
        "id": "VBmIwPv_SHA2"
      },
      "source": [
        "def real_loss(D_out, labels):\n",
        "        # binary cross entropy with logits loss\n",
        "    criterion = nn.CrossEntropyLoss() #nn.BCEWithLogitsLoss()\n",
        "    # calculate loss\n",
        "    loss = criterion(D_out.squeeze(), labels)\n",
        "    return loss\n",
        "\n",
        "def fake_loss(D_out):\n",
        "    batch_size = D_out.size(0)\n",
        "    labels = torch.ones(batch_size, dtype=int)*10 # fake labels = 10\n",
        "    if train_on_gpu:\n",
        "        labels = labels.cuda()\n",
        "    criterion = nn.CrossEntropyLoss()\n",
        "    # calculate loss\n",
        "    #D_out = torch.from_numpy(\n",
        "    #                np.array([fake.argmax() for fake in D_out], \n",
        "    #                                dtype=int))\n",
        "    loss = criterion(D_out, labels)\n",
        "    return loss"
      ],
      "execution_count": null,
      "outputs": []
    },
    {
      "cell_type": "code",
      "metadata": {
        "id": "OHOQNT7HO3Fj"
      },
      "source": [
        "labels = torch.ones(batch_size, dtype=int)*10\n",
        "D_fake = torch.from_numpy(\n",
        "            np.array([fake.argmax() for fake in D_fake], \n",
        "                     dtype=int))\n",
        "D_fake - labels"
      ],
      "execution_count": null,
      "outputs": []
    },
    {
      "cell_type": "code",
      "metadata": {
        "id": "SOVzIiI2Kx9U"
      },
      "source": [
        "labels = torch.ones(batch_size, dtype=int)*10\n",
        "criterion = nn.CrossEntropyLoss()\n",
        "loss = criterion(D_fake, labels)"
      ],
      "execution_count": null,
      "outputs": []
    },
    {
      "cell_type": "markdown",
      "metadata": {
        "id": "XjhQ8PXzSHA3"
      },
      "source": [
        "## Optimizers\n",
        "\n",
        "Not much new here, but notice how I am using a small learning rate and custom parameters for the Adam optimizers, This is based on some research into DCGAN model convergence.\n",
        "\n",
        "### Hyperparameters\n",
        "\n",
        "GANs are very sensitive to hyperparameters. A lot of experimentation goes into finding the best hyperparameters such that the generator and discriminator don't overpower each other. Try out your own hyperparameters or read [the DCGAN paper](https://arxiv.org/pdf/1511.06434.pdf) to see what worked for them."
      ]
    },
    {
      "cell_type": "code",
      "metadata": {
        "id": "-Crp-J6wSHA3"
      },
      "source": [
        "import torch.optim as optim\n",
        "\n",
        "# params\n",
        "lr = 0.0005\n",
        "beta1= 0.75\n",
        "beta2= 0.995\n",
        "\n",
        "# Create optimizers for the discriminator and generator\n",
        "d_optimizer = optim.Adam(D.parameters(), lr, [beta1, beta2])\n",
        "g_optimizer = optim.Adam(G.parameters(), lr, [beta1, beta2])"
      ],
      "execution_count": null,
      "outputs": []
    },
    {
      "cell_type": "markdown",
      "metadata": {
        "id": "atAPMq0RSHA3"
      },
      "source": [
        "---\n",
        "## Training\n",
        "\n",
        "Training will involve alternating between training the discriminator and the generator. We'll use our functions `real_loss` and `fake_loss` to help us calculate the discriminator losses in all of the following cases.\n",
        "\n",
        "### Discriminator training\n",
        "1. Compute the discriminator loss on real, training images        \n",
        "2. Generate fake images\n",
        "3. Compute the discriminator loss on fake, generated images     \n",
        "4. Add up real and fake loss\n",
        "5. Perform backpropagation + an optimization step to update the discriminator's weights\n",
        "\n",
        "### Generator training\n",
        "1. Generate fake images\n",
        "2. Compute the discriminator loss on fake images, using **flipped** labels!\n",
        "3. Perform backpropagation + an optimization step to update the generator's weights\n",
        "\n",
        "#### Saving Samples\n",
        "\n",
        "As we train, we'll also print out some loss statistics and save some generated \"fake\" samples.\n",
        "\n",
        "**Evaluation mode**\n",
        "\n",
        "Notice that, when we call our generator to create the samples to display, we set our model to evaluation mode: `G.eval()`. That's so the batch normalization layers will use the population statistics rather than the batch statistics (as they do during training), *and* so dropout layers will operate in eval() mode; not turning off any nodes for generating samples."
      ]
    },
    {
      "cell_type": "code",
      "metadata": {
        "id": "VxhkTRS8GT7n"
      },
      "source": [
        "sample_size=8\n",
        "sample_labels = np.random.choice(range(10), size=sample_size)\n",
        "fixed_z = np.random.uniform(-1, 1, size=(sample_size, z_size))"
      ],
      "execution_count": null,
      "outputs": []
    },
    {
      "cell_type": "code",
      "metadata": {
        "id": "mGC5LiCQSHA3"
      },
      "source": [
        "import pickle as pkl\n",
        "\n",
        "# training hyperparams\n",
        "num_epochs = 10\n",
        "\n",
        "# keep track of loss and generated, \"fake\" samples\n",
        "samples = []\n",
        "losses = []\n",
        "\n",
        "print_every = 300\n",
        "\n",
        "# Get some fixed data for sampling. These are images that are held\n",
        "# constant throughout training, and allow us to inspect the model's performance\n",
        "sample_size=8\n",
        "sample_labels = np.random.choice(range(10), size=sample_size)\n",
        "fixed_z = np.random.uniform(-1, 1, size=(sample_size, z_size))\n",
        "#for i, lab in enumerate(sample_labels):\n",
        "#    fixed_z[i,0] = lab\n",
        "fixed_z = torch.from_numpy(fixed_z).float()\n",
        "if train_on_gpu:\n",
        "    fixed_z = fixed_z.cuda()\n",
        "    sample_labels = torch.from_numpy(sample_labels).cuda()\n",
        "\n",
        "# train the network\n",
        "for epoch in range(num_epochs):\n",
        "    \n",
        "    for batch_i, (real_images, real_labels) in enumerate(train_loader):       \n",
        "        \n",
        "        batch_size = real_images.size(0)\n",
        "        \n",
        "        # important rescaling step\n",
        "        #real_images = get_new_images(real_images) \n",
        "        real_images = scale(real_images)\n",
        "        \n",
        "        # ============================================\n",
        "        #            TRAIN THE DISCRIMINATOR\n",
        "        # ============================================\n",
        "        \n",
        "        d_optimizer.zero_grad()\n",
        "        \n",
        "        # 1. Train with real images\n",
        "        # Compute the discriminator losses on real images \n",
        "        if train_on_gpu:\n",
        "            real_images = real_images.cuda()\n",
        "            real_labels = real_labels.cuda()\n",
        "        \n",
        "        D_real = D(real_images)\n",
        "        d_real_loss = real_loss(D_real, real_labels)\n",
        "        \n",
        "        # 2. Train with fake images\n",
        "        # Generate fake images\n",
        "        #fake_labels = np.random.choice(range(10), size=batch_size)\n",
        "        z = np.random.uniform(-1, 1, size=(batch_size//2, z_size))\n",
        "        #for i, fl in enumerate(fake_labels):\n",
        "        #    z[i,0] = fl\n",
        "        z = torch.from_numpy(z).float() \n",
        "\n",
        "        # move x to GPU, if available\n",
        "        if train_on_gpu:\n",
        "            z = z.cuda()\n",
        "        fake_images = G(z)\n",
        "\n",
        "        # Compute the discriminator losses on fake images            \n",
        "        D_fake = D(fake_images)\n",
        "        #D_fake = torch.from_numpy(\n",
        "        #            np.array([fake.argmax() for fake in D_fake], \n",
        "        #                     dtype=int))\n",
        "        d_fake_loss = fake_loss(D_fake)\n",
        "        \n",
        "        # add up loss and perform backprop\n",
        "        d_loss = d_real_loss + d_fake_loss\n",
        "        d_loss.backward()\n",
        "        d_optimizer.step()\n",
        "        \n",
        "        # =========================================\n",
        "        #            TRAIN THE GENERATOR\n",
        "        # =========================================\n",
        "        g_optimizer.zero_grad()\n",
        "        \n",
        "        # 1. Train with fake images and flipped labels    \n",
        "        # Generate fake images\n",
        "        fake_labels = np.random.choice(range(10), size=batch_size)\n",
        "        z = np.random.uniform(-1, 1, size=(batch_size, z_size))\n",
        "        #for i, fl in enumerate(fake_labels):\n",
        "        #    z[i,0] = fl\n",
        "        z = torch.from_numpy(z).float()   \n",
        "        fake_labels = torch.from_numpy(fake_labels)\n",
        "        if train_on_gpu:\n",
        "            z = z.cuda()\n",
        "            fake_labels = fake_labels.cuda()\n",
        "        fake_images = G(z)\n",
        "        \n",
        "        # Compute the discriminator losses on fake images \n",
        "        # using flipped labels!\n",
        "        D_fake = D(fake_images)\n",
        "        g_loss = real_loss(D_fake, fake_labels) # use real loss to flip labels\n",
        "        \n",
        "        # perform backprop\n",
        "        g_loss.backward()\n",
        "        g_optimizer.step()\n",
        "\n",
        "        # Print some loss stats\n",
        "        if batch_i % print_every == 0:\n",
        "            # append discriminator loss and generator loss\n",
        "            losses.append((d_loss.item(), g_loss.item()))\n",
        "            # print discriminator and generator loss\n",
        "            print('Epoch [{:5d}/{:5d}] | d_loss: {:6.4f} | g_loss: {:6.4f}'.format(\n",
        "                    epoch+1, num_epochs, d_loss.item(), g_loss.item()))\n",
        " \n",
        "    ## AFTER EACH EPOCH##    \n",
        "    # generate and save sample, fake images\n",
        "    G.eval() # for generating samples\n",
        "    samples_z = G(fixed_z)\n",
        "    samples.append(samples_z)\n",
        "    G.train() # back to training mode\n",
        "\n",
        "# Save training generator samples\n",
        "with open('train_samples.pkl', 'wb') as f:\n",
        "    pkl.dump(samples, f)"
      ],
      "execution_count": null,
      "outputs": []
    },
    {
      "cell_type": "code",
      "metadata": {
        "id": "SXBvHxPhLekd"
      },
      "source": [
        "torch.from_numpy(\n",
        "    np.array([fake.argmax() for fake in D_fake], dtype=int)\n",
        "    ).dtype"
      ],
      "execution_count": null,
      "outputs": []
    },
    {
      "cell_type": "markdown",
      "metadata": {
        "id": "xM1eniUxSHA4"
      },
      "source": [
        "## Training loss\n",
        "\n",
        "Here we'll plot the training losses for the generator and discriminator, recorded after each epoch."
      ]
    },
    {
      "cell_type": "code",
      "metadata": {
        "id": "TxUDk957SHA4"
      },
      "source": [
        "fig, ax = plt.subplots(figsize=(8,3))\n",
        "losses = np.array(losses)\n",
        "plt.plot(losses.T[0], label='Discriminator', alpha=0.75)\n",
        "plt.plot(losses.T[1], label='Generator', alpha=0.75)\n",
        "plt.title(\"Training Losses\")\n",
        "plt.legend()"
      ],
      "execution_count": null,
      "outputs": []
    },
    {
      "cell_type": "markdown",
      "metadata": {
        "collapsed": true,
        "id": "wBo_i7-HSHA4"
      },
      "source": [
        "## Generator samples from training\n",
        "\n",
        "Here we can view samples of images from the generator. We'll look at the images we saved during training."
      ]
    },
    {
      "cell_type": "code",
      "metadata": {
        "id": "IHADtA3rqjdZ"
      },
      "source": [
        "# helper function for viewing a list of passed in sample images\n",
        "def view_samples(epoch, samples):\n",
        "    fig, axes = plt.subplots(figsize=(16,4), nrows=1, ncols=8, sharey=True, sharex=True)\n",
        "    for ax, img in zip(axes.flatten(), samples[epoch]):\n",
        "        img = img.detach().cpu().numpy()\n",
        "        img = np.transpose(img, (1, 2, 0))\n",
        "        img = ((img +1)*255 / (2)).astype(np.uint8) # rescale to pixel range (0-255)\n",
        "        ax.xaxis.set_visible(False)\n",
        "        ax.yaxis.set_visible(False)\n",
        "        im = ax.imshow(img.reshape((32,32,3)))"
      ],
      "execution_count": null,
      "outputs": []
    },
    {
      "cell_type": "code",
      "metadata": {
        "id": "ybs-uZ_lAU_B"
      },
      "source": [
        "_ = view_samples(0, samples)"
      ],
      "execution_count": null,
      "outputs": []
    },
    {
      "cell_type": "code",
      "metadata": {
        "scrolled": true,
        "id": "z2vS8hbJaRgR"
      },
      "source": [
        "_ = view_samples(6, samples)"
      ],
      "execution_count": null,
      "outputs": []
    },
    {
      "cell_type": "code",
      "metadata": {
        "scrolled": true,
        "id": "pjj-ZoV7aSJg"
      },
      "source": [
        "_ = view_samples(12, samples)"
      ],
      "execution_count": null,
      "outputs": []
    },
    {
      "cell_type": "code",
      "metadata": {
        "scrolled": true,
        "id": "U_slwVEkaRxQ"
      },
      "source": [
        "_ = view_samples(18, samples)"
      ],
      "execution_count": null,
      "outputs": []
    },
    {
      "cell_type": "code",
      "metadata": {
        "id": "Te88HxsdqwdN"
      },
      "source": [
        "_ = view_samples(-1, samples)"
      ],
      "execution_count": null,
      "outputs": []
    },
    {
      "cell_type": "code",
      "metadata": {
        "id": "jjstnhk-CxKU"
      },
      "source": [
        "_ = view_samples(0, [fake_ims])"
      ],
      "execution_count": null,
      "outputs": []
    },
    {
      "cell_type": "markdown",
      "metadata": {
        "id": "Kx3HYwUqUwGE"
      },
      "source": [
        "##Just Classify"
      ]
    },
    {
      "cell_type": "code",
      "metadata": {
        "id": "FT7C8skUlMJj"
      },
      "source": [
        "# params\n",
        "lr = 0.00075\n",
        "\n",
        "num_epochs = 10\n",
        "\n",
        "criterion = nn.CrossEntropyLoss()\n",
        "optimizer = optim.Adam(D.parameters(), lr)#, [beta1, beta2])"
      ],
      "execution_count": null,
      "outputs": []
    },
    {
      "cell_type": "code",
      "metadata": {
        "id": "vlMGQh29tXHb"
      },
      "source": [
        "fake_labs.shape, labels.shape"
      ],
      "execution_count": null,
      "outputs": []
    },
    {
      "cell_type": "code",
      "metadata": {
        "id": "5LU4rGsbT3Fj"
      },
      "source": [
        "# keep track of loss \n",
        "losses = []\n",
        "print_every = 500\n",
        "\n",
        "# train the network\n",
        "D.train()\n",
        "for epoch in range(num_epochs):\n",
        "\n",
        "    for batch_i, (images, labels) in enumerate(train_loader):        \n",
        "        optimizer.zero_grad()\n",
        "\n",
        "        batch_size = images.shape[0]\n",
        "        fake_images = np.random.uniform(0, 1, size=(batch_size//2, 3, 32, 32)).astype(np.float32)\n",
        "        fake_labels = 10*np.ones(batch_size//2).astype(np.int)\n",
        "\n",
        "        if train_on_gpu:\n",
        "            images = images.cuda()\n",
        "            labels = labels.cuda()\n",
        "            fake_images = torch.from_numpy(fake_images).cuda()\n",
        "            fake_labels = torch.from_numpy(fake_labels).cuda()\n",
        "\n",
        "        D_images = D(images)\n",
        "        images_loss = criterion(D_images.squeeze(), labels)\n",
        "        \n",
        "        D_fakes = D(fake_images)\n",
        "        fakes_loss = criterion(D_fakes.squeeze(), fake_labels)\n",
        "\n",
        "        # add up loss and perform backprop\n",
        "        loss = images_loss + fakes_loss\n",
        "        loss.backward()\n",
        "        optimizer.step()\n",
        "\n",
        "        if batch_i % print_every == 0:\n",
        "            D.eval()\n",
        "            for ims, labs in test_loader:  \n",
        "                batch_size = ims.shape[0]\n",
        "                fake_ims = np.random.uniform(0, 1, size=(batch_size//2, 3, 32, 32)).astype(np.float32)\n",
        "                fake_labs = 10*np.ones(batch_size//2).astype(np.int)\n",
        "\n",
        "                if train_on_gpu:\n",
        "                    ims = ims.cuda()\n",
        "                    labs = labs.cuda()\n",
        "                    fake_ims = torch.from_numpy(fake_ims).cuda()\n",
        "                    fake_labs = torch.from_numpy(fake_labs).cuda()\n",
        "\n",
        "                D_val = D(ims)\n",
        "                val_loss = criterion(D_val.squeeze(), labs)\n",
        "\n",
        "                D_fake_val = D(fake_ims)\n",
        "                val_loss += criterion(D_fake_val.squeeze(), fake_labs)\n",
        "\n",
        "            losses.append((loss.item(), val_loss.item()))\n",
        "            print('Epoch [{:5d}/{:5d}] | loss: {:6.4f} | val_loss: {:6.4f} |'.format(\n",
        "                                        epoch+1, num_epochs, loss.item(), val_loss.item()))\n",
        "            D.train()"
      ],
      "execution_count": null,
      "outputs": []
    },
    {
      "cell_type": "code",
      "metadata": {
        "id": "RWJdbxWW5umg"
      },
      "source": [
        "output = D_images.detach().cpu().numpy()\n",
        "output = [np.argmax(o) for o in output]\n",
        "answers = labels.detach().cpu().numpy()\n",
        "images = images.detach().cpu()"
      ],
      "execution_count": null,
      "outputs": []
    },
    {
      "cell_type": "code",
      "metadata": {
        "id": "XRYI6XrT27uw"
      },
      "source": [
        "fig = plt.figure(figsize=(12, 3))\n",
        "plot_size=np.min((images.shape[0], 8))\n",
        "for idx in np.arange(plot_size):\n",
        "    ax = fig.add_subplot(1, plot_size, idx+1, xticks=[], yticks=[])\n",
        "    ax.imshow(np.transpose(images[idx], (1, 2, 0)))\n",
        "    ax.set_title(str(answers[idx])+\" \"+str(output[idx]))"
      ],
      "execution_count": null,
      "outputs": []
    },
    {
      "cell_type": "code",
      "metadata": {
        "id": "vTWW2wle5zgb"
      },
      "source": [
        "fake_out = D_fake.detach().cpu().numpy()\n",
        "fake_out = [np.argmax(o) for o in fake_out]\n",
        "fake_labels = fake_labels.detach().cpu().numpy()\n",
        "fake_images = fake_images.detach().cpu()"
      ],
      "execution_count": null,
      "outputs": []
    },
    {
      "cell_type": "code",
      "metadata": {
        "id": "0MuDEepifew5"
      },
      "source": [
        "fig = plt.figure(figsize=(12, 3))\n",
        "plot_size=np.min((fake_images.shape[0], 8))\n",
        "for idx in np.arange(plot_size):\n",
        "    ax = fig.add_subplot(1, plot_size, idx+1, xticks=[], yticks=[])\n",
        "    ax.imshow(np.transpose(fake_images[idx], (1, 2, 0)))\n",
        "    ax.set_title(str(fake_labels[idx])+\" \"+str(fake_out[idx]))"
      ],
      "execution_count": null,
      "outputs": []
    },
    {
      "cell_type": "code",
      "metadata": {
        "id": "6Wa2gFbe51N5"
      },
      "source": [
        "genims = G(fixed_z)\n",
        "guess = D(genims)\n",
        "genims = genims.detach().cpu().numpy()\n",
        "guess = guess.detach().cpu().numpy()\n",
        "guess = [np.argmax(g) for g in guess]"
      ],
      "execution_count": null,
      "outputs": []
    },
    {
      "cell_type": "code",
      "metadata": {
        "id": "fSkRrdBG1RLL"
      },
      "source": [
        "fig = plt.figure(figsize=(12, 3))\n",
        "plot_size=np.min((genims.shape[0], 8))\n",
        "for idx in np.arange(plot_size):\n",
        "    ax = fig.add_subplot(1, plot_size, idx+1, xticks=[], yticks=[])\n",
        "    genims[idx] = (genims[idx]+1)/2\n",
        "    ax.imshow(np.transpose(genims[idx], (1, 2, 0)))\n",
        "    ax.set_title(str(10)+\" \"+str(guess[idx]))"
      ],
      "execution_count": null,
      "outputs": []
    },
    {
      "cell_type": "code",
      "metadata": {
        "id": "9UD3fHKy0kTs"
      },
      "source": [
        "## Train and Validation Loss\n",
        "\n",
        "fig, ax = plt.subplots(figsize=(8,3))\n",
        "losses = np.array(losses)\n",
        "plt.plot(losses.T[0], label='Train loss', alpha=0.75)\n",
        "plt.plot(losses.T[1], label='Val loss', alpha=0.75)\n",
        "plt.title(\"Training Losses\")\n",
        "plt.legend()"
      ],
      "execution_count": null,
      "outputs": []
    }
  ]
}